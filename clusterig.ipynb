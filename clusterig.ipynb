{
 "cells": [
  {
   "cell_type": "markdown",
   "id": "090d5178",
   "metadata": {},
   "source": [
    "## Cross Sell/Upsell-\n",
    "Upselling is the practice of encouraging customers to purchase a comparable higher-end product than the one in question, while cross-selling invites customers to buy related or complementary items."
   ]
  },
  {
   "cell_type": "markdown",
   "id": "2e7bd4b6",
   "metadata": {},
   "source": [
    "## Dataset-\n",
    "The sample dataset summarizes the usage behavior of about 9000 active credit card holders during the last 6 months. The file is at a customer level with 18 behavioral variables."
   ]
  },
  {
   "cell_type": "code",
   "execution_count": 1,
   "id": "c3d4f40a",
   "metadata": {},
   "outputs": [],
   "source": [
    "import pandas as pd\n",
    "import numpy as np\n",
    "import matplotlib.pyplot as plt\n",
    "from sklearn.cluster import KMeans\n",
    "from sklearn import preprocessing"
   ]
  },
  {
   "cell_type": "code",
   "execution_count": 31,
   "id": "bc157842",
   "metadata": {},
   "outputs": [],
   "source": [
    "dataset = pd.read_csv(\"/home/webhav/studymaterial/clustering/clustering_algorithms/CC_GENERAL.csv\")"
   ]
  },
  {
   "cell_type": "code",
   "execution_count": 32,
   "id": "2794cea4",
   "metadata": {},
   "outputs": [],
   "source": [
    "dataset = dataset.drop(['ONEOFF_PURCHASES','INSTALLMENTS_PURCHASES','CASH_ADVANCE','PURCHASES_FREQUENCY','ONEOFF_PURCHASES_FREQUENCY','PURCHASES_INSTALLMENTS_FREQUENCY','CASH_ADVANCE_FREQUENCY','CASH_ADVANCE_TRX','PURCHASES_TRX','PRC_FULL_PAYMENT','CUST_ID'],axis=1)"
   ]
  },
  {
   "cell_type": "code",
   "execution_count": 33,
   "id": "7af615c9",
   "metadata": {
    "scrolled": true
   },
   "outputs": [
    {
     "data": {
      "text/html": [
       "<div>\n",
       "<style scoped>\n",
       "    .dataframe tbody tr th:only-of-type {\n",
       "        vertical-align: middle;\n",
       "    }\n",
       "\n",
       "    .dataframe tbody tr th {\n",
       "        vertical-align: top;\n",
       "    }\n",
       "\n",
       "    .dataframe thead th {\n",
       "        text-align: right;\n",
       "    }\n",
       "</style>\n",
       "<table border=\"1\" class=\"dataframe\">\n",
       "  <thead>\n",
       "    <tr style=\"text-align: right;\">\n",
       "      <th></th>\n",
       "      <th>BALANCE</th>\n",
       "      <th>BALANCE_FREQUENCY</th>\n",
       "      <th>PURCHASES</th>\n",
       "      <th>CREDIT_LIMIT</th>\n",
       "      <th>PAYMENTS</th>\n",
       "      <th>MINIMUM_PAYMENTS</th>\n",
       "      <th>TENURE</th>\n",
       "    </tr>\n",
       "  </thead>\n",
       "  <tbody>\n",
       "    <tr>\n",
       "      <th>0</th>\n",
       "      <td>40.900749</td>\n",
       "      <td>0.818182</td>\n",
       "      <td>95.40</td>\n",
       "      <td>1000.0</td>\n",
       "      <td>201.802084</td>\n",
       "      <td>139.509787</td>\n",
       "      <td>12.0</td>\n",
       "    </tr>\n",
       "    <tr>\n",
       "      <th>1</th>\n",
       "      <td>3202.467416</td>\n",
       "      <td>0.909091</td>\n",
       "      <td>0.00</td>\n",
       "      <td>7000.0</td>\n",
       "      <td>4103.032597</td>\n",
       "      <td>1072.340217</td>\n",
       "      <td>12.0</td>\n",
       "    </tr>\n",
       "    <tr>\n",
       "      <th>2</th>\n",
       "      <td>2495.148862</td>\n",
       "      <td>1.000000</td>\n",
       "      <td>773.17</td>\n",
       "      <td>7500.0</td>\n",
       "      <td>622.066742</td>\n",
       "      <td>627.284787</td>\n",
       "      <td>12.0</td>\n",
       "    </tr>\n",
       "    <tr>\n",
       "      <th>4</th>\n",
       "      <td>817.714335</td>\n",
       "      <td>1.000000</td>\n",
       "      <td>16.00</td>\n",
       "      <td>1200.0</td>\n",
       "      <td>678.334763</td>\n",
       "      <td>244.791237</td>\n",
       "      <td>12.0</td>\n",
       "    </tr>\n",
       "    <tr>\n",
       "      <th>5</th>\n",
       "      <td>1809.828751</td>\n",
       "      <td>1.000000</td>\n",
       "      <td>1333.28</td>\n",
       "      <td>1800.0</td>\n",
       "      <td>1400.057770</td>\n",
       "      <td>2407.246035</td>\n",
       "      <td>12.0</td>\n",
       "    </tr>\n",
       "  </tbody>\n",
       "</table>\n",
       "</div>"
      ],
      "text/plain": [
       "       BALANCE  BALANCE_FREQUENCY  PURCHASES  CREDIT_LIMIT     PAYMENTS  \\\n",
       "0    40.900749           0.818182      95.40        1000.0   201.802084   \n",
       "1  3202.467416           0.909091       0.00        7000.0  4103.032597   \n",
       "2  2495.148862           1.000000     773.17        7500.0   622.066742   \n",
       "4   817.714335           1.000000      16.00        1200.0   678.334763   \n",
       "5  1809.828751           1.000000    1333.28        1800.0  1400.057770   \n",
       "\n",
       "   MINIMUM_PAYMENTS  TENURE  \n",
       "0        139.509787    12.0  \n",
       "1       1072.340217    12.0  \n",
       "2        627.284787    12.0  \n",
       "4        244.791237    12.0  \n",
       "5       2407.246035    12.0  "
      ]
     },
     "execution_count": 33,
     "metadata": {},
     "output_type": "execute_result"
    }
   ],
   "source": [
    "dataset = clean_dataset(dataset)\n",
    "dataset.head()"
   ]
  },
  {
   "cell_type": "code",
   "execution_count": 18,
   "id": "1aae63bf",
   "metadata": {},
   "outputs": [],
   "source": [
    "X = dataset"
   ]
  },
  {
   "cell_type": "code",
   "execution_count": 8,
   "id": "a995240d",
   "metadata": {},
   "outputs": [],
   "source": [
    "# #Normalise data-\n",
    "# scaler = preprocessing.StandardScaler().fit(X)\n",
    "# X = scaler.transform(X)"
   ]
  },
  {
   "cell_type": "code",
   "execution_count": 49,
   "id": "3eb9e4df",
   "metadata": {},
   "outputs": [],
   "source": [
    "#choosing optimum clusters using elbow method-\n",
    "wcss = []\n",
    "for i in range(1,10):\n",
    "    kmeans = KMeans(n_clusters = i, init = 'k-means++')\n",
    "    kmeans.fit(X)\n",
    "    wcss.append(kmeans.inertia_)"
   ]
  },
  {
   "cell_type": "code",
   "execution_count": 51,
   "id": "e9de57d3",
   "metadata": {},
   "outputs": [
    {
     "data": {
      "text/plain": [
       "[<matplotlib.lines.Line2D at 0x7f496c055898>]"
      ]
     },
     "execution_count": 51,
     "metadata": {},
     "output_type": "execute_result"
    },
    {
     "data": {
      "image/png": "[encoded data removed]",
      "text/plain": [
       "<Figure size 432x288 with 1 Axes>"
      ]
     },
     "metadata": {
      "needs_background": "light"
     },
     "output_type": "display_data"
    }
   ],
   "source": [
    "plt.plot(range(1,10), wcss)"
   ]
  },
  {
   "cell_type": "code",
   "execution_count": 52,
   "id": "52c1dd60",
   "metadata": {},
   "outputs": [],
   "source": [
    "#creating clusters with optimum value \n",
    "y_kmeans = KMeans(n_clusters = 5, init = 'k-means++')\n",
    "y_means = y_kmeans.fit(X)\n",
    "#y_means_predict = y_kmeans.fit_predict(X)"
   ]
  },
  {
   "cell_type": "code",
   "execution_count": 34,
   "id": "08774c76",
   "metadata": {},
   "outputs": [],
   "source": [
    "dataset['cluster'] = y_means.labels_"
   ]
  },
  {
   "cell_type": "code",
   "execution_count": null,
   "id": "149b81f1",
   "metadata": {},
   "outputs": [],
   "source": []
  },
  {
   "cell_type": "code",
   "execution_count": 16,
   "id": "0f2be3db",
   "metadata": {},
   "outputs": [
    {
     "data": {
      "text/plain": [
       "<matplotlib.collections.PathCollection at 0x7f496c39bdd8>"
      ]
     },
     "execution_count": 16,
     "metadata": {},
     "output_type": "execute_result"
    },
    {
     "data": {
      "image/png": "[encoded data removed]",
      "text/plain": [
       "<Figure size 432x288 with 1 Axes>"
      ]
     },
     "metadata": {
      "needs_background": "light"
     },
     "output_type": "display_data"
    }
   ],
   "source": [
    "plt.scatter(X[y_means_predict ==0, 0],X[y_means_predict == 0, 1], s = 100, c='red',label = 'Cluster1' )\n",
    "plt.scatter(X[y_means_predict ==1, 0],X[y_means_predict == 1, 1], s = 100, c='blue',label = 'Cluster2' )\n",
    "plt.scatter(X[y_means_predict ==2, 0],X[y_means_predict == 2, 1], s = 100, c='green',label = 'Cluster3' )\n",
    "plt.scatter(X[y_means_predict ==3, 0],X[y_means_predict == 3, 1], s = 100, c='cyan',label = 'Cluster4' )\n",
    "plt.scatter(X[y_means_predict ==4, 0],X[y_means_predict == 4, 1], s = 100, c='magenta',label = 'Cluster5' )"
   ]
  },
  {
   "cell_type": "markdown",
   "id": "55ebabae",
   "metadata": {},
   "source": [
    "### Analysis"
   ]
  },
  {
   "cell_type": "code",
   "execution_count": 27,
   "id": "cc055b18",
   "metadata": {},
   "outputs": [],
   "source": [
    "load_clusters()"
   ]
  },
  {
   "cell_type": "markdown",
   "id": "3255b4b4",
   "metadata": {},
   "source": [
    "Average PAYMENTS paid by each cluster-"
   ]
  },
  {
   "cell_type": "code",
   "execution_count": 53,
   "id": "6f320df5",
   "metadata": {
    "scrolled": false
   },
   "outputs": [
    {
     "name": "stdout",
     "output_type": "stream",
     "text": [
      "[6177, 1323, 27159, 1534, 2592]\n"
     ]
    },
    {
     "data": {
      "image/png": "[encoded data removed]",
      "text/plain": [
       "<Figure size 432x288 with 1 Axes>"
      ]
     },
     "metadata": {
      "needs_background": "light"
     },
     "output_type": "display_data"
    }
   ],
   "source": [
    "clusters = [\"cls0\",\"cls1\",\"cls2\",\"cls3\",\"cls4\"]\n",
    "total_payments = [payment_cluster0,payment_cluster1,payment_cluster2,payment_cluster3,payment_cluster4]\n",
    "print(total_payments)\n",
    "plt.bar(clusters, total_payments)\n",
    "plt.grid()\n",
    "plt.ylabel('payments')\n",
    "plt.xticks(rotation='vertical')\n",
    "plt.show()"
   ]
  },
  {
   "cell_type": "markdown",
   "id": "c1721605",
   "metadata": {},
   "source": [
    "Risk Factor - \n",
    "Average Balance in account vs Credit Spend-"
   ]
  },
  {
   "cell_type": "code",
   "execution_count": 54,
   "id": "a490379b",
   "metadata": {},
   "outputs": [
    {
     "name": "stdout",
     "output_type": "stream",
     "text": [
      " Account_balance  creditamount  cluster\n",
      "            2030          6177        0\n",
      "            1811          1323        1\n",
      "            5351         27159        2\n",
      "            4438          1534        3\n",
      "            7207          2592        4\n"
     ]
    }
   ],
   "source": [
    "df2 = pd.DataFrame(list(zip(balance_mean, total_payments,cls)),columns =['Account_balance', 'creditamount','cluster'])\n",
    "print(df2.to_string(index = False))"
   ]
  },
  {
   "cell_type": "markdown",
   "id": "dc065d89",
   "metadata": {},
   "source": [
    "Credit Limit vs spendatures-"
   ]
  },
  {
   "cell_type": "code",
   "execution_count": 48,
   "id": "95d9da1f",
   "metadata": {},
   "outputs": [
    {
     "name": "stdout",
     "output_type": "stream",
     "text": [
      " credit_taken  credit_limit  percent  cluster\n",
      "         6177          6295       98        0\n",
      "         1323          6153       21        1\n",
      "        27159         16360      166        2\n",
      "         1534          4652       32        3\n",
      "         2592         10852       23        4\n",
      "          884          2059       42        5\n",
      "        16140         12347      130        6\n",
      "         2063         12408       16        7\n"
     ]
    }
   ],
   "source": [
    "df3 = pd.DataFrame(list(zip(total_payments,limit_cluster,percent_spend,cls)),columns =[ 'credit_taken','credit_limit','percent','cluster'])\n",
    "print(df3.to_string(index = False))"
   ]
  },
  {
   "cell_type": "code",
   "execution_count": null,
   "id": "b5ff7d79",
   "metadata": {},
   "outputs": [],
   "source": []
  },
  {
   "cell_type": "code",
   "execution_count": null,
   "id": "f302d6be",
   "metadata": {},
   "outputs": [],
   "source": []
  },
  {
   "cell_type": "code",
   "execution_count": null,
   "id": "16d1429f",
   "metadata": {},
   "outputs": [],
   "source": []
  },
  {
   "cell_type": "code",
   "execution_count": null,
   "id": "615c47bd",
   "metadata": {},
   "outputs": [],
   "source": []
  },
  {
   "cell_type": "code",
   "execution_count": null,
   "id": "18d2e29d",
   "metadata": {},
   "outputs": [],
   "source": []
  },
  {
   "cell_type": "code",
   "execution_count": null,
   "id": "d3d39700",
   "metadata": {},
   "outputs": [],
   "source": []
  },
  {
   "cell_type": "code",
   "execution_count": null,
   "id": "e9a9a409",
   "metadata": {},
   "outputs": [],
   "source": []
  },
  {
   "cell_type": "code",
   "execution_count": null,
   "id": "07ab4c51",
   "metadata": {},
   "outputs": [],
   "source": []
  },
  {
   "cell_type": "code",
   "execution_count": null,
   "id": "4ac55da7",
   "metadata": {},
   "outputs": [],
   "source": [
    "BALANCE"
   ]
  },
  {
   "cell_type": "code",
   "execution_count": 5,
   "id": "4184a405",
   "metadata": {},
   "outputs": [],
   "source": [
    "def clean_dataset(df):\n",
    "    assert isinstance(df, pd.DataFrame), \"df needs to be a pd.DataFrame\"\n",
    "    df.dropna(inplace=True)\n",
    "    indices_to_keep = ~df.isin([np.nan, np.inf, -np.inf]).any(1)\n",
    "    return df[indices_to_keep].astype(np.float64)"
   ]
  },
  {
   "cell_type": "code",
   "execution_count": 23,
   "id": "18eb8cb0",
   "metadata": {},
   "outputs": [],
   "source": [
    "payment_cluster0 = int(dataset.loc[dataset['cluster'] == 0, 'PAYMENTS'].mean())\n",
    "payment_cluster1 = int(dataset.loc[dataset['cluster'] == 1, 'PAYMENTS'].mean())\n",
    "payment_cluster2 = int(dataset.loc[dataset['cluster'] == 2, 'PAYMENTS'].mean())\n",
    "payment_cluster3 = int(dataset.loc[dataset['cluster'] == 3, 'PAYMENTS'].mean())\n",
    "payment_cluster4 = int(dataset.loc[dataset['cluster'] == 4, 'PAYMENTS'].mean())\n",
    "payment_cluster5 = int(dataset.loc[dataset['cluster'] == 5, 'PAYMENTS'].mean())\n",
    "payment_cluster6 = int(dataset.loc[dataset['cluster'] == 6, 'PAYMENTS'].mean())\n",
    "payment_cluster7 = int(dataset.loc[dataset['cluster'] == 7, 'PAYMENTS'].mean())"
   ]
  },
  {
   "cell_type": "code",
   "execution_count": 35,
   "id": "34adcc2f",
   "metadata": {},
   "outputs": [
    {
     "data": {
      "text/plain": [
       "[2030, 1811, 5351, 4438, 7207, 787, 5402, 1041]"
      ]
     },
     "execution_count": 35,
     "metadata": {},
     "output_type": "execute_result"
    }
   ],
   "source": [
    "balance_cluster0 = int(dataset.loc[dataset['cluster'] == 0, 'BALANCE'].mean())\n",
    "balance_cluster1 = int(dataset.loc[dataset['cluster'] == 1, 'BALANCE'].mean())\n",
    "balance_cluster2 = int(dataset.loc[dataset['cluster'] == 2, 'BALANCE'].mean())\n",
    "balance_cluster3 = int(dataset.loc[dataset['cluster'] == 3, 'BALANCE'].mean())\n",
    "balance_cluster4 = int(dataset.loc[dataset['cluster'] == 4, 'BALANCE'].mean())\n",
    "balance_cluster5 = int(dataset.loc[dataset['cluster'] == 5, 'BALANCE'].mean())\n",
    "balance_cluster6 = int(dataset.loc[dataset['cluster'] == 6, 'BALANCE'].mean())\n",
    "balance_cluster7 = int(dataset.loc[dataset['cluster'] == 7, 'BALANCE'].mean())\n",
    "balance_mean = [balance_cluster0,balance_cluster1,balance_cluster2,balance_cluster3,balance_cluster4,balance_cluster5,balance_cluster6,balance_cluster7]\n",
    "balance_mean"
   ]
  },
  {
   "cell_type": "code",
   "execution_count": 38,
   "id": "2939c6b9",
   "metadata": {},
   "outputs": [],
   "source": [
    "cls = [0,1,2,3,4,5,6,7]"
   ]
  },
  {
   "cell_type": "code",
   "execution_count": 41,
   "id": "2cb334bd",
   "metadata": {},
   "outputs": [
    {
     "data": {
      "text/plain": [
       "[6295, 6153, 16360, 4652, 10852, 2059, 12347, 12408]"
      ]
     },
     "execution_count": 41,
     "metadata": {},
     "output_type": "execute_result"
    }
   ],
   "source": [
    "limit_cluster0 = int(dataset.loc[dataset['cluster'] == 0, 'CREDIT_LIMIT'].mean())\n",
    "limit_cluster1 = int(dataset.loc[dataset['cluster'] == 1, 'CREDIT_LIMIT'].mean())\n",
    "limit_cluster2 = int(dataset.loc[dataset['cluster'] == 2, 'CREDIT_LIMIT'].mean())\n",
    "limit_cluster3 = int(dataset.loc[dataset['cluster'] == 3, 'CREDIT_LIMIT'].mean())\n",
    "limit_cluster4 = int(dataset.loc[dataset['cluster'] == 4, 'CREDIT_LIMIT'].mean())\n",
    "limit_cluster5 = int(dataset.loc[dataset['cluster'] == 5, 'CREDIT_LIMIT'].mean())\n",
    "limit_cluster6 = int(dataset.loc[dataset['cluster'] == 6, 'CREDIT_LIMIT'].mean())\n",
    "limit_cluster7 = int(dataset.loc[dataset['cluster'] == 7, 'CREDIT_LIMIT'].mean())\n",
    "limit_cluster = [limit_cluster0,limit_cluster1,limit_cluster2,limit_cluster3,limit_cluster4,limit_cluster5,limit_cluster6,limit_cluster7]\n",
    "limit_cluster"
   ]
  },
  {
   "cell_type": "code",
   "execution_count": 46,
   "id": "0d370bd3",
   "metadata": {},
   "outputs": [
    {
     "name": "stdout",
     "output_type": "stream",
     "text": [
      "[98, 21, 166, 32, 23, 42, 130, 16]\n"
     ]
    }
   ],
   "source": [
    "lim = [6295, 6153, 16360, 4652, 10852, 2059, 12347, 12408]\n",
    "pay = [6177, 1323, 27159, 1534, 2592, 884, 16140, 2063]\n",
    "percent_spend = []\n",
    "for i,j in zip(total_payments,limit_cluster):\n",
    "    percent_spend.append((i*100)//j)\n",
    "print(percent_spend)"
   ]
  },
  {
   "cell_type": "code",
   "execution_count": null,
   "id": "2d163b70",
   "metadata": {},
   "outputs": [],
   "source": []
  }
 ],
 "metadata": {
  "kernelspec": {
   "display_name": "Python 3",
   "language": "python",
   "name": "python3"
  },
  "language_info": {
   "codemirror_mode": {
    "name": "ipython",
    "version": 3
   },
   "file_extension": ".py",
   "mimetype": "text/x-python",
   "name": "python",
   "nbconvert_exporter": "python",
   "pygments_lexer": "ipython3",
   "version": "3.6.9"
  }
 },
 "nbformat": 4,
 "nbformat_minor": 5
}
