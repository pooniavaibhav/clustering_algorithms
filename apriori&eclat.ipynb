{
 "cells": [
  {
   "cell_type": "markdown",
   "id": "80c3b2db",
   "metadata": {},
   "source": [
    "## Apriori\n",
    "Apriori is all about people who bought this also bought other things.\n",
    "The algorithm has three parts-\n",
    "* support\n",
    "* confidence\n",
    "* lift"
   ]
  },
  {
   "cell_type": "markdown",
   "id": "71fa0b8a",
   "metadata": {},
   "source": [
    "### Support-\n",
    "Support(I) = # trnsaction containing I / # transactions"
   ]
  },
  {
   "cell_type": "markdown",
   "id": "d404af02",
   "metadata": {},
   "source": [
    "### Confidence -\n",
    "confidence(I1 -> I2) = #transactions containing I1 and I2 / # transactions containing I1"
   ]
  },
  {
   "cell_type": "markdown",
   "id": "7c35418c",
   "metadata": {},
   "source": [
    "### Lift-\n",
    "lift(I1 -> I2) = confidence(I1 -> I2) / support(I2)"
   ]
  },
  {
   "cell_type": "markdown",
   "id": "52698e42",
   "metadata": {},
   "source": [
    "### Steps -\n",
    "* Set a minimum support and confidence.\n",
    "* Take all the subsets in the transactions having higher support than minimum support.\n",
    "* Take all the rules of these subsets having higher confidence than minimum confidence.\n",
    "* Sort the rules by decreasing lift."
   ]
  },
  {
   "cell_type": "code",
   "execution_count": 66,
   "id": "83285fc6",
   "metadata": {},
   "outputs": [],
   "source": [
    "import pandas as pd\n",
    "import matplotlib.pyplot as plt\n",
    "import numpy as np\n",
    "from apyori import apriori"
   ]
  },
  {
   "cell_type": "code",
   "execution_count": 67,
   "id": "39604603",
   "metadata": {},
   "outputs": [],
   "source": [
    "dataset = pd.read_csv(r\"/home/webhav/Documents/my_project_dir/MachineLearning/Part 5 - Association Rule Learning/Section 28 - Apriori/Apriori_Python/Market_Basket_Optimisation.csv\",header = None)"
   ]
  },
  {
   "cell_type": "code",
   "execution_count": 68,
   "id": "65d29ac1",
   "metadata": {},
   "outputs": [
    {
     "data": {
      "text/html": [
       "<div>\n",
       "<style scoped>\n",
       "    .dataframe tbody tr th:only-of-type {\n",
       "        vertical-align: middle;\n",
       "    }\n",
       "\n",
       "    .dataframe tbody tr th {\n",
       "        vertical-align: top;\n",
       "    }\n",
       "\n",
       "    .dataframe thead th {\n",
       "        text-align: right;\n",
       "    }\n",
       "</style>\n",
       "<table border=\"1\" class=\"dataframe\">\n",
       "  <thead>\n",
       "    <tr style=\"text-align: right;\">\n",
       "      <th></th>\n",
       "      <th>0</th>\n",
       "      <th>1</th>\n",
       "      <th>2</th>\n",
       "      <th>3</th>\n",
       "      <th>4</th>\n",
       "      <th>5</th>\n",
       "      <th>6</th>\n",
       "      <th>7</th>\n",
       "      <th>8</th>\n",
       "      <th>9</th>\n",
       "      <th>10</th>\n",
       "      <th>11</th>\n",
       "      <th>12</th>\n",
       "      <th>13</th>\n",
       "      <th>14</th>\n",
       "      <th>15</th>\n",
       "      <th>16</th>\n",
       "      <th>17</th>\n",
       "      <th>18</th>\n",
       "      <th>19</th>\n",
       "    </tr>\n",
       "  </thead>\n",
       "  <tbody>\n",
       "    <tr>\n",
       "      <th>0</th>\n",
       "      <td>shrimp</td>\n",
       "      <td>almonds</td>\n",
       "      <td>avocado</td>\n",
       "      <td>vegetables mix</td>\n",
       "      <td>green grapes</td>\n",
       "      <td>whole weat flour</td>\n",
       "      <td>yams</td>\n",
       "      <td>cottage cheese</td>\n",
       "      <td>energy drink</td>\n",
       "      <td>tomato juice</td>\n",
       "      <td>low fat yogurt</td>\n",
       "      <td>green tea</td>\n",
       "      <td>honey</td>\n",
       "      <td>salad</td>\n",
       "      <td>mineral water</td>\n",
       "      <td>salmon</td>\n",
       "      <td>antioxydant juice</td>\n",
       "      <td>frozen smoothie</td>\n",
       "      <td>spinach</td>\n",
       "      <td>olive oil</td>\n",
       "    </tr>\n",
       "    <tr>\n",
       "      <th>1</th>\n",
       "      <td>burgers</td>\n",
       "      <td>meatballs</td>\n",
       "      <td>eggs</td>\n",
       "      <td>NaN</td>\n",
       "      <td>NaN</td>\n",
       "      <td>NaN</td>\n",
       "      <td>NaN</td>\n",
       "      <td>NaN</td>\n",
       "      <td>NaN</td>\n",
       "      <td>NaN</td>\n",
       "      <td>NaN</td>\n",
       "      <td>NaN</td>\n",
       "      <td>NaN</td>\n",
       "      <td>NaN</td>\n",
       "      <td>NaN</td>\n",
       "      <td>NaN</td>\n",
       "      <td>NaN</td>\n",
       "      <td>NaN</td>\n",
       "      <td>NaN</td>\n",
       "      <td>NaN</td>\n",
       "    </tr>\n",
       "    <tr>\n",
       "      <th>2</th>\n",
       "      <td>chutney</td>\n",
       "      <td>NaN</td>\n",
       "      <td>NaN</td>\n",
       "      <td>NaN</td>\n",
       "      <td>NaN</td>\n",
       "      <td>NaN</td>\n",
       "      <td>NaN</td>\n",
       "      <td>NaN</td>\n",
       "      <td>NaN</td>\n",
       "      <td>NaN</td>\n",
       "      <td>NaN</td>\n",
       "      <td>NaN</td>\n",
       "      <td>NaN</td>\n",
       "      <td>NaN</td>\n",
       "      <td>NaN</td>\n",
       "      <td>NaN</td>\n",
       "      <td>NaN</td>\n",
       "      <td>NaN</td>\n",
       "      <td>NaN</td>\n",
       "      <td>NaN</td>\n",
       "    </tr>\n",
       "    <tr>\n",
       "      <th>3</th>\n",
       "      <td>turkey</td>\n",
       "      <td>avocado</td>\n",
       "      <td>NaN</td>\n",
       "      <td>NaN</td>\n",
       "      <td>NaN</td>\n",
       "      <td>NaN</td>\n",
       "      <td>NaN</td>\n",
       "      <td>NaN</td>\n",
       "      <td>NaN</td>\n",
       "      <td>NaN</td>\n",
       "      <td>NaN</td>\n",
       "      <td>NaN</td>\n",
       "      <td>NaN</td>\n",
       "      <td>NaN</td>\n",
       "      <td>NaN</td>\n",
       "      <td>NaN</td>\n",
       "      <td>NaN</td>\n",
       "      <td>NaN</td>\n",
       "      <td>NaN</td>\n",
       "      <td>NaN</td>\n",
       "    </tr>\n",
       "    <tr>\n",
       "      <th>4</th>\n",
       "      <td>mineral water</td>\n",
       "      <td>milk</td>\n",
       "      <td>energy bar</td>\n",
       "      <td>whole wheat rice</td>\n",
       "      <td>green tea</td>\n",
       "      <td>NaN</td>\n",
       "      <td>NaN</td>\n",
       "      <td>NaN</td>\n",
       "      <td>NaN</td>\n",
       "      <td>NaN</td>\n",
       "      <td>NaN</td>\n",
       "      <td>NaN</td>\n",
       "      <td>NaN</td>\n",
       "      <td>NaN</td>\n",
       "      <td>NaN</td>\n",
       "      <td>NaN</td>\n",
       "      <td>NaN</td>\n",
       "      <td>NaN</td>\n",
       "      <td>NaN</td>\n",
       "      <td>NaN</td>\n",
       "    </tr>\n",
       "  </tbody>\n",
       "</table>\n",
       "</div>"
      ],
      "text/plain": [
       "              0          1           2                 3             4   \\\n",
       "0         shrimp    almonds     avocado    vegetables mix  green grapes   \n",
       "1        burgers  meatballs        eggs               NaN           NaN   \n",
       "2        chutney        NaN         NaN               NaN           NaN   \n",
       "3         turkey    avocado         NaN               NaN           NaN   \n",
       "4  mineral water       milk  energy bar  whole wheat rice     green tea   \n",
       "\n",
       "                 5     6               7             8             9   \\\n",
       "0  whole weat flour  yams  cottage cheese  energy drink  tomato juice   \n",
       "1               NaN   NaN             NaN           NaN           NaN   \n",
       "2               NaN   NaN             NaN           NaN           NaN   \n",
       "3               NaN   NaN             NaN           NaN           NaN   \n",
       "4               NaN   NaN             NaN           NaN           NaN   \n",
       "\n",
       "               10         11     12     13             14      15  \\\n",
       "0  low fat yogurt  green tea  honey  salad  mineral water  salmon   \n",
       "1             NaN        NaN    NaN    NaN            NaN     NaN   \n",
       "2             NaN        NaN    NaN    NaN            NaN     NaN   \n",
       "3             NaN        NaN    NaN    NaN            NaN     NaN   \n",
       "4             NaN        NaN    NaN    NaN            NaN     NaN   \n",
       "\n",
       "                  16               17       18         19  \n",
       "0  antioxydant juice  frozen smoothie  spinach  olive oil  \n",
       "1                NaN              NaN      NaN        NaN  \n",
       "2                NaN              NaN      NaN        NaN  \n",
       "3                NaN              NaN      NaN        NaN  \n",
       "4                NaN              NaN      NaN        NaN  "
      ]
     },
     "execution_count": 68,
     "metadata": {},
     "output_type": "execute_result"
    }
   ],
   "source": [
    "dataset.head()"
   ]
  },
  {
   "cell_type": "code",
   "execution_count": 69,
   "id": "3685a52e",
   "metadata": {},
   "outputs": [
    {
     "data": {
      "text/plain": [
       "(7501, 20)"
      ]
     },
     "execution_count": 69,
     "metadata": {},
     "output_type": "execute_result"
    }
   ],
   "source": [
    "dataset.shape"
   ]
  },
  {
   "cell_type": "code",
   "execution_count": 70,
   "id": "d668b6d7",
   "metadata": {},
   "outputs": [],
   "source": [
    "transactions=[]"
   ]
  },
  {
   "cell_type": "code",
   "execution_count": 71,
   "id": "5ed87bed",
   "metadata": {},
   "outputs": [],
   "source": [
    "for i in range(dataset.shape[0]):\n",
    "    transactions.append([str(dataset.values[i,j]) for j in range(0,20)])"
   ]
  },
  {
   "cell_type": "code",
   "execution_count": 72,
   "id": "80f10140",
   "metadata": {},
   "outputs": [
    {
     "data": {
      "text/plain": [
       "7501"
      ]
     },
     "execution_count": 72,
     "metadata": {},
     "output_type": "execute_result"
    }
   ],
   "source": [
    "len(transactions)"
   ]
  },
  {
   "cell_type": "code",
   "execution_count": 73,
   "id": "0c11b682",
   "metadata": {},
   "outputs": [
    {
     "data": {
      "text/plain": [
       "0.003"
      ]
     },
     "execution_count": 73,
     "metadata": {},
     "output_type": "execute_result"
    }
   ],
   "source": [
    "#calculating minimum_support to pass in apriory-\n",
    "#we want a product to be sold atleast 3 times a day then in a week it will be 7*3 deviding wiith total transactions\n",
    "minimum_support = round(3*7/7500,3)\n",
    "(minimum_support)"
   ]
  },
  {
   "cell_type": "code",
   "execution_count": 74,
   "id": "84285da7",
   "metadata": {},
   "outputs": [],
   "source": [
    "#calculating confidence-\n",
    "# we do not need too high or too low confidenc so taking 20 %.\n",
    "minimum_confidence = 0.2"
   ]
  },
  {
   "cell_type": "code",
   "execution_count": 75,
   "id": "0c75d483",
   "metadata": {},
   "outputs": [],
   "source": [
    "#minimum lift\n",
    "minimum_lift = 3"
   ]
  },
  {
   "cell_type": "code",
   "execution_count": 76,
   "id": "0d6d11e3",
   "metadata": {},
   "outputs": [],
   "source": [
    "rules = apriori(transactions,min_support = 0.003, min_confidence=0.2,min_lift=3,min_length=2)"
   ]
  },
  {
   "cell_type": "code",
   "execution_count": 77,
   "id": "475922c7",
   "metadata": {},
   "outputs": [],
   "source": [
    "results = list(rules)"
   ]
  },
  {
   "cell_type": "code",
   "execution_count": 86,
   "id": "294123c7",
   "metadata": {},
   "outputs": [],
   "source": [
    "lift = []\n",
    "association = []\n",
    "for i in range (0, len(results)):\n",
    "    lift.append(results[:len(results)][i][2][0][3])\n",
    "    association.append(list(results[:len(results)][i][0]))"
   ]
  },
  {
   "cell_type": "code",
   "execution_count": 87,
   "id": "9833eb47",
   "metadata": {},
   "outputs": [],
   "source": [
    "rank = pd.DataFrame([association, lift]).T\n",
    "rank.columns = ['Association', 'Lift']"
   ]
  },
  {
   "cell_type": "code",
   "execution_count": 88,
   "id": "02977f6a",
   "metadata": {},
   "outputs": [
    {
     "data": {
      "text/html": [
       "<div>\n",
       "<style scoped>\n",
       "    .dataframe tbody tr th:only-of-type {\n",
       "        vertical-align: middle;\n",
       "    }\n",
       "\n",
       "    .dataframe tbody tr th {\n",
       "        vertical-align: top;\n",
       "    }\n",
       "\n",
       "    .dataframe thead th {\n",
       "        text-align: right;\n",
       "    }\n",
       "</style>\n",
       "<table border=\"1\" class=\"dataframe\">\n",
       "  <thead>\n",
       "    <tr style=\"text-align: right;\">\n",
       "      <th></th>\n",
       "      <th>Association</th>\n",
       "      <th>Lift</th>\n",
       "    </tr>\n",
       "  </thead>\n",
       "  <tbody>\n",
       "    <tr>\n",
       "      <th>150</th>\n",
       "      <td>[milk, nan, frozen vegetables, mineral water, ...</td>\n",
       "      <td>7.98718</td>\n",
       "    </tr>\n",
       "    <tr>\n",
       "      <th>97</th>\n",
       "      <td>[soup, milk, mineral water, frozen vegetables]</td>\n",
       "      <td>7.98718</td>\n",
       "    </tr>\n",
       "    <tr>\n",
       "      <th>149</th>\n",
       "      <td>[milk, nan, olive oil, frozen vegetables, mine...</td>\n",
       "      <td>6.12827</td>\n",
       "    </tr>\n",
       "    <tr>\n",
       "      <th>96</th>\n",
       "      <td>[olive oil, milk, mineral water, frozen vegeta...</td>\n",
       "      <td>6.12827</td>\n",
       "    </tr>\n",
       "    <tr>\n",
       "      <th>132</th>\n",
       "      <td>[olive oil, nan, mineral water, whole wheat pa...</td>\n",
       "      <td>6.12827</td>\n",
       "    </tr>\n",
       "    <tr>\n",
       "      <th>59</th>\n",
       "      <td>[olive oil, whole wheat pasta, mineral water]</td>\n",
       "      <td>6.11586</td>\n",
       "    </tr>\n",
       "    <tr>\n",
       "      <th>50</th>\n",
       "      <td>[spaghetti, ground beef, tomato sauce]</td>\n",
       "      <td>5.53597</td>\n",
       "    </tr>\n",
       "    <tr>\n",
       "      <th>122</th>\n",
       "      <td>[spaghetti, nan, ground beef, tomato sauce]</td>\n",
       "      <td>5.53597</td>\n",
       "    </tr>\n",
       "    <tr>\n",
       "      <th>28</th>\n",
       "      <td>[fromage blanc, nan, honey]</td>\n",
       "      <td>5.17882</td>\n",
       "    </tr>\n",
       "    <tr>\n",
       "      <th>3</th>\n",
       "      <td>[fromage blanc, honey]</td>\n",
       "      <td>5.16427</td>\n",
       "    </tr>\n",
       "  </tbody>\n",
       "</table>\n",
       "</div>"
      ],
      "text/plain": [
       "                                           Association     Lift\n",
       "150  [milk, nan, frozen vegetables, mineral water, ...  7.98718\n",
       "97      [soup, milk, mineral water, frozen vegetables]  7.98718\n",
       "149  [milk, nan, olive oil, frozen vegetables, mine...  6.12827\n",
       "96   [olive oil, milk, mineral water, frozen vegeta...  6.12827\n",
       "132  [olive oil, nan, mineral water, whole wheat pa...  6.12827\n",
       "59       [olive oil, whole wheat pasta, mineral water]  6.11586\n",
       "50              [spaghetti, ground beef, tomato sauce]  5.53597\n",
       "122        [spaghetti, nan, ground beef, tomato sauce]  5.53597\n",
       "28                         [fromage blanc, nan, honey]  5.17882\n",
       "3                               [fromage blanc, honey]  5.16427"
      ]
     },
     "execution_count": 88,
     "metadata": {},
     "output_type": "execute_result"
    }
   ],
   "source": [
    "# Show top 10 higher lift scores\n",
    "rank.sort_values('Lift', ascending=False).head(10)"
   ]
  },
  {
   "cell_type": "markdown",
   "id": "0fb04927",
   "metadata": {},
   "source": [
    "# Eclat\n",
    "Here we calculate the support but we create set of different items and calulate support betweeen them.\n",
    "\n",
    "## steps-\n",
    "* set a minimum support.\n",
    "* Take all the subsets in the transactions having higher support then minimum.\n",
    "* Sort these subsets by decreasing support."
   ]
  },
  {
   "cell_type": "code",
   "execution_count": 90,
   "id": "f8c26236",
   "metadata": {},
   "outputs": [],
   "source": [
    "# Putting all transactions in a single list\n",
    "items = []\n",
    "for i in range(0, len(transactions)):\n",
    "    items.extend(transactions[i])\n",
    "\n",
    "# Finding unique items from transactions and removing nan\n",
    "uniqueItems = list(set(items))\n",
    "uniqueItems.remove('nan')"
   ]
  },
  {
   "cell_type": "code",
   "execution_count": 91,
   "id": "d63d345f",
   "metadata": {},
   "outputs": [],
   "source": [
    "# creating combinations of items in pairs-\n",
    "pair = []\n",
    "for j in range(0, len(uniqueItems)):\n",
    "    k = 1;\n",
    "    while k <= len(uniqueItems):\n",
    "        try:\n",
    "            pair.append([uniqueItems[j], uniqueItems[j+k]])\n",
    "        except IndexError:\n",
    "            pass\n",
    "        k = k + 1;"
   ]
  },
  {
   "cell_type": "markdown",
   "id": "62acd89a",
   "metadata": {},
   "source": [
    "### Calculating score\n",
    "The calculation is done looking at the number of customers that bought both items (the pair) and divided by all customers of the week (7501). This calculation is done for all pairs possible and the score is returned on \"score\" list."
   ]
  },
  {
   "cell_type": "code",
   "execution_count": 92,
   "id": "deed9ab9",
   "metadata": {},
   "outputs": [],
   "source": [
    "score = []\n",
    "for i in pair:\n",
    "    cond = []\n",
    "    for item in i:\n",
    "        cond.append('(\"%s\") in s' %item)\n",
    "    mycode = ('[s for s in transactions if ' + ' and '.join(cond) + ']')\n",
    "    #mycode = \"print 'hello world'\"\n",
    "    score.append(len(eval(mycode))/7501.)"
   ]
  },
  {
   "cell_type": "code",
   "execution_count": 93,
   "id": "40ccb296",
   "metadata": {},
   "outputs": [],
   "source": [
    "ranking_ECLAT = pd.DataFrame([pair, score]).T\n",
    "ranking_ECLAT.columns = ['Pair', 'Score']"
   ]
  },
  {
   "cell_type": "code",
   "execution_count": 94,
   "id": "ecaa22ac",
   "metadata": {},
   "outputs": [
    {
     "data": {
      "text/html": [
       "<div>\n",
       "<style scoped>\n",
       "    .dataframe tbody tr th:only-of-type {\n",
       "        vertical-align: middle;\n",
       "    }\n",
       "\n",
       "    .dataframe tbody tr th {\n",
       "        vertical-align: top;\n",
       "    }\n",
       "\n",
       "    .dataframe thead th {\n",
       "        text-align: right;\n",
       "    }\n",
       "</style>\n",
       "<table border=\"1\" class=\"dataframe\">\n",
       "  <thead>\n",
       "    <tr style=\"text-align: right;\">\n",
       "      <th></th>\n",
       "      <th>Pair</th>\n",
       "      <th>Score</th>\n",
       "    </tr>\n",
       "  </thead>\n",
       "  <tbody>\n",
       "    <tr>\n",
       "      <th>4664</th>\n",
       "      <td>[spaghetti, mineral water]</td>\n",
       "      <td>0.0597254</td>\n",
       "    </tr>\n",
       "    <tr>\n",
       "      <th>974</th>\n",
       "      <td>[chocolate, mineral water]</td>\n",
       "      <td>0.0526596</td>\n",
       "    </tr>\n",
       "    <tr>\n",
       "      <th>3074</th>\n",
       "      <td>[eggs, mineral water]</td>\n",
       "      <td>0.0509265</td>\n",
       "    </tr>\n",
       "    <tr>\n",
       "      <th>4868</th>\n",
       "      <td>[milk, mineral water]</td>\n",
       "      <td>0.0479936</td>\n",
       "    </tr>\n",
       "    <tr>\n",
       "      <th>3676</th>\n",
       "      <td>[ground beef, mineral water]</td>\n",
       "      <td>0.0409279</td>\n",
       "    </tr>\n",
       "    <tr>\n",
       "      <th>3666</th>\n",
       "      <td>[ground beef, spaghetti]</td>\n",
       "      <td>0.0391948</td>\n",
       "    </tr>\n",
       "    <tr>\n",
       "      <th>964</th>\n",
       "      <td>[chocolate, spaghetti]</td>\n",
       "      <td>0.0391948</td>\n",
       "    </tr>\n",
       "    <tr>\n",
       "      <th>3064</th>\n",
       "      <td>[eggs, spaghetti]</td>\n",
       "      <td>0.0365285</td>\n",
       "    </tr>\n",
       "    <tr>\n",
       "      <th>3073</th>\n",
       "      <td>[eggs, french fries]</td>\n",
       "      <td>0.0363951</td>\n",
       "    </tr>\n",
       "    <tr>\n",
       "      <th>5319</th>\n",
       "      <td>[mineral water, frozen vegetables]</td>\n",
       "      <td>0.0357286</td>\n",
       "    </tr>\n",
       "  </tbody>\n",
       "</table>\n",
       "</div>"
      ],
      "text/plain": [
       "                                    Pair      Score\n",
       "4664          [spaghetti, mineral water]  0.0597254\n",
       "974           [chocolate, mineral water]  0.0526596\n",
       "3074               [eggs, mineral water]  0.0509265\n",
       "4868               [milk, mineral water]  0.0479936\n",
       "3676        [ground beef, mineral water]  0.0409279\n",
       "3666            [ground beef, spaghetti]  0.0391948\n",
       "964               [chocolate, spaghetti]  0.0391948\n",
       "3064                   [eggs, spaghetti]  0.0365285\n",
       "3073                [eggs, french fries]  0.0363951\n",
       "5319  [mineral water, frozen vegetables]  0.0357286"
      ]
     },
     "execution_count": 94,
     "metadata": {},
     "output_type": "execute_result"
    }
   ],
   "source": [
    "ranking_ECLAT.sort_values('Score', ascending=False).head(10)"
   ]
  },
  {
   "cell_type": "code",
   "execution_count": null,
   "id": "2a6b9a55",
   "metadata": {},
   "outputs": [],
   "source": []
  }
 ],
 "metadata": {
  "kernelspec": {
   "display_name": "Python 3",
   "language": "python",
   "name": "python3"
  },
  "language_info": {
   "codemirror_mode": {
    "name": "ipython",
    "version": 3
   },
   "file_extension": ".py",
   "mimetype": "text/x-python",
   "name": "python",
   "nbconvert_exporter": "python",
   "pygments_lexer": "ipython3",
   "version": "3.6.9"
  }
 },
 "nbformat": 4,
 "nbformat_minor": 5
}
